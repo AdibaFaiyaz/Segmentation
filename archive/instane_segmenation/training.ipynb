{
 "cells": [
  {
   "cell_type": "code",
   "execution_count": null,
   "id": "2d2fc001",
   "metadata": {},
   "outputs": [
    {
     "name": "stderr",
     "output_type": "stream",
     "text": [
      "New https://pypi.org/project/ultralytics/8.0.141 available  Update with 'pip install -U ultralytics'\n",
      "Ultralytics YOLOv8.0.61  Python-3.9.12 torch-1.12.1 CUDA:0 (NVIDIA GeForce RTX 3060 Ti, 8192MiB)\n",
      "\u001b[34m\u001b[1myolo\\engine\\trainer: \u001b[0mtask=segment, mode=train, model=yolov8s-seg.pt, data=data.yaml, epochs=100, patience=50, batch=16, imgsz=256, save=True, save_period=-1, cache=False, device=None, workers=8, project=None, name=None, exist_ok=False, pretrained=False, optimizer=SGD, verbose=True, seed=0, deterministic=True, single_cls=False, image_weights=False, rect=False, cos_lr=False, close_mosaic=10, resume=False, amp=True, overlap_mask=True, mask_ratio=4, dropout=0.0, val=True, split=val, save_json=False, save_hybrid=False, conf=None, iou=0.7, max_det=300, half=False, dnn=False, plots=True, source=None, show=False, save_txt=False, save_conf=False, save_crop=False, hide_labels=False, hide_conf=False, vid_stride=1, line_thickness=3, visualize=False, augment=False, agnostic_nms=False, classes=None, retina_masks=False, boxes=True, format=torchscript, keras=False, optimize=False, int8=False, dynamic=False, simplify=False, opset=None, workspace=4, nms=False, lr0=0.01, lrf=0.01, momentum=0.937, weight_decay=0.0005, warmup_epochs=3.0, warmup_momentum=0.8, warmup_bias_lr=0.1, box=7.5, cls=0.5, dfl=1.5, fl_gamma=0.0, label_smoothing=0.0, nbs=64, hsv_h=0.015, hsv_s=0.7, hsv_v=0.4, degrees=0.0, translate=0.1, scale=0.5, shear=0.0, perspective=0.0, flipud=0.0, fliplr=0.5, mosaic=1.0, mixup=0.0, copy_paste=0.0, cfg=None, v5loader=False, tracker=botsort.yaml, save_dir=runs\\segment\\train7\n",
      "Overriding model.yaml nc=80 with nc=1\n",
      "\n",
      "                   from  n    params  module                                       arguments                     \n",
      "  0                  -1  1       928  ultralytics.nn.modules.Conv                  [3, 32, 3, 2]                 \n",
      "  1                  -1  1     18560  ultralytics.nn.modules.Conv                  [32, 64, 3, 2]                \n",
      "  2                  -1  1     29056  ultralytics.nn.modules.C2f                   [64, 64, 1, True]             \n",
      "  3                  -1  1     73984  ultralytics.nn.modules.Conv                  [64, 128, 3, 2]               \n",
      "  4                  -1  2    197632  ultralytics.nn.modules.C2f                   [128, 128, 2, True]           \n",
      "  5                  -1  1    295424  ultralytics.nn.modules.Conv                  [128, 256, 3, 2]              \n",
      "  6                  -1  2    788480  ultralytics.nn.modules.C2f                   [256, 256, 2, True]           \n",
      "  7                  -1  1   1180672  ultralytics.nn.modules.Conv                  [256, 512, 3, 2]              \n",
      "  8                  -1  1   1838080  ultralytics.nn.modules.C2f                   [512, 512, 1, True]           \n",
      "  9                  -1  1    656896  ultralytics.nn.modules.SPPF                  [512, 512, 5]                 \n",
      " 10                  -1  1         0  torch.nn.modules.upsampling.Upsample         [None, 2, 'nearest']          \n",
      " 11             [-1, 6]  1         0  ultralytics.nn.modules.Concat                [1]                           \n",
      " 12                  -1  1    591360  ultralytics.nn.modules.C2f                   [768, 256, 1]                 \n",
      " 13                  -1  1         0  torch.nn.modules.upsampling.Upsample         [None, 2, 'nearest']          \n",
      " 14             [-1, 4]  1         0  ultralytics.nn.modules.Concat                [1]                           \n",
      " 15                  -1  1    148224  ultralytics.nn.modules.C2f                   [384, 128, 1]                 \n",
      " 16                  -1  1    147712  ultralytics.nn.modules.Conv                  [128, 128, 3, 2]              \n",
      " 17            [-1, 12]  1         0  ultralytics.nn.modules.Concat                [1]                           \n",
      " 18                  -1  1    493056  ultralytics.nn.modules.C2f                   [384, 256, 1]                 \n",
      " 19                  -1  1    590336  ultralytics.nn.modules.Conv                  [256, 256, 3, 2]              \n",
      " 20             [-1, 9]  1         0  ultralytics.nn.modules.Concat                [1]                           \n",
      " 21                  -1  1   1969152  ultralytics.nn.modules.C2f                   [768, 512, 1]                 \n",
      " 22        [15, 18, 21]  1   2770931  ultralytics.nn.modules.Segment               [1, 32, 128, [128, 256, 512]] \n",
      "YOLOv8s-seg summary: 261 layers, 11790483 parameters, 11790467 gradients, 42.7 GFLOPs\n",
      "\n",
      "Transferred 411/417 items from pretrained weights\n",
      "\u001b[34m\u001b[1mTensorBoard: \u001b[0mStart with 'tensorboard --logdir runs\\segment\\train7', view at http://localhost:6006/\n",
      "\u001b[34m\u001b[1mAMP: \u001b[0mrunning Automatic Mixed Precision (AMP) checks with YOLOv8n...\n",
      "\u001b[34m\u001b[1mAMP: \u001b[0mchecks passed \n",
      "\u001b[34m\u001b[1moptimizer:\u001b[0m SGD(lr=0.01) with parameter groups 66 weight(decay=0.0), 77 weight(decay=0.0005), 76 bias\n",
      "\u001b[34m\u001b[1mtrain: \u001b[0mScanning D:\\work\\Adeeb\\DataScience\\SEGMENTATION\\instane_segmenation\\train\\labels.cache... 2096 images, 24 backgr\u001b[0m\n",
      "\u001b[34m\u001b[1mtrain: \u001b[0mWARNING  D:\\work\\Adeeb\\DataScience\\SEGMENTATION\\instane_segmenation\\train\\images\\frame353_jpg.rf.6b35c5de4daa9847fecd0ddf7dffbc14.jpg: 1 duplicate labels removed\n",
      "\u001b[34m\u001b[1mtrain: \u001b[0mWARNING  D:\\work\\Adeeb\\DataScience\\SEGMENTATION\\instane_segmenation\\train\\images\\frame353_jpg.rf.b366782102da6edf1c3ff13a53145628.jpg: 1 duplicate labels removed\n",
      "\u001b[34m\u001b[1mtrain: \u001b[0mWARNING  D:\\work\\Adeeb\\DataScience\\SEGMENTATION\\instane_segmenation\\train\\images\\frame353_jpg.rf.bfe644c73644a3eed705110367f16bf8.jpg: 1 duplicate labels removed\n",
      "\u001b[34m\u001b[1mtrain: \u001b[0mWARNING  D:\\work\\Adeeb\\DataScience\\SEGMENTATION\\instane_segmenation\\train\\images\\frame425_jpg.rf.07d31bf4d17b821b2c5003c432c0122b.jpg: 1 duplicate labels removed\n",
      "\u001b[34m\u001b[1mtrain: \u001b[0mWARNING  D:\\work\\Adeeb\\DataScience\\SEGMENTATION\\instane_segmenation\\train\\images\\frame425_jpg.rf.90e5ceb34d6fc14d5b0589885beaaacb.jpg: 1 duplicate labels removed\n",
      "\u001b[34m\u001b[1mtrain: \u001b[0mWARNING  D:\\work\\Adeeb\\DataScience\\SEGMENTATION\\instane_segmenation\\train\\images\\frame425_jpg.rf.95b18bd80a6d9014295f6b91345d617e.jpg: 1 duplicate labels removed\n",
      "\u001b[34m\u001b[1mtrain: \u001b[0mWARNING  D:\\work\\Adeeb\\DataScience\\SEGMENTATION\\instane_segmenation\\train\\images\\frame428_jpg.rf.5daeaa0c09530ba6453e1e70ca1d4a54.jpg: 1 duplicate labels removed\n",
      "\u001b[34m\u001b[1mtrain: \u001b[0mWARNING  D:\\work\\Adeeb\\DataScience\\SEGMENTATION\\instane_segmenation\\train\\images\\frame428_jpg.rf.bc3146927efe015ff2ed117b8a3e9f94.jpg: 1 duplicate labels removed\n",
      "\u001b[34m\u001b[1mtrain: \u001b[0mWARNING  D:\\work\\Adeeb\\DataScience\\SEGMENTATION\\instane_segmenation\\train\\images\\frame428_jpg.rf.efb0933e4a7cc99175324e0fdf5f8135.jpg: 1 duplicate labels removed\n",
      "\u001b[34m\u001b[1mval: \u001b[0mScanning D:\\work\\Adeeb\\DataScience\\SEGMENTATION\\instane_segmenation\\valid\\labels.cache... 131 images, 1 background\u001b[0m\n",
      "\u001b[34m\u001b[1mval: \u001b[0mWARNING  D:\\work\\Adeeb\\DataScience\\SEGMENTATION\\instane_segmenation\\valid\\images\\frame386_jpg.rf.fb4ea46ff5cc78181dcc2efb91dce1ec.jpg: 1 duplicate labels removed\n",
      "Plotting labels to runs\\segment\\train7\\labels.jpg... \n",
      "Image sizes 256 train, 256 val\n",
      "Using 8 dataloader workers\n",
      "Logging results to \u001b[1mruns\\segment\\train7\u001b[0m\n",
      "Starting training for 100 epochs...\n",
      "\n",
      "      Epoch    GPU_mem   box_loss   seg_loss   cls_loss   dfl_loss  Instances       Size\n"
     ]
    }
   ],
   "source": [
    "from ultralytics import YOLO\n",
    "\n",
    "\n",
    "\n",
    "model = YOLO('yolov8s-seg.pt')  # load a pretrained model (recommended for training)\n",
    "\n",
    "\n",
    "# Train the model\n",
    "model.train(data='data.yaml', epochs=100, imgsz=256)\n"
   ]
  },
  {
   "cell_type": "code",
   "execution_count": null,
   "id": "a8bb9815",
   "metadata": {},
   "outputs": [],
   "source": [
    "metrics = model.val()"
   ]
  },
  {
   "cell_type": "code",
   "execution_count": null,
   "id": "b71cff59",
   "metadata": {},
   "outputs": [],
   "source": [
    "model.export(format='onnx')\n",
    "model.export(format='tflite')\n",
    "model.export(format='tfjs')\n",
    "model.export()"
   ]
  },
  {
   "cell_type": "code",
   "execution_count": null,
   "id": "2683ae58",
   "metadata": {},
   "outputs": [],
   "source": [
    "!tensorboard --logdir runs\\segment\\train4"
   ]
  },
  {
   "cell_type": "code",
   "execution_count": null,
   "id": "dff7ac23",
   "metadata": {},
   "outputs": [],
   "source": []
  }
 ],
 "metadata": {
  "kernelspec": {
   "display_name": "trch",
   "language": "python",
   "name": "trch"
  },
  "language_info": {
   "codemirror_mode": {
    "name": "ipython",
    "version": 3
   },
   "file_extension": ".py",
   "mimetype": "text/x-python",
   "name": "python",
   "nbconvert_exporter": "python",
   "pygments_lexer": "ipython3",
   "version": "3.9.12"
  }
 },
 "nbformat": 4,
 "nbformat_minor": 5
}
